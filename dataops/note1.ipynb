{
 "cells": [
  {
   "cell_type": "code",
   "execution_count": 16,
   "metadata": {},
   "outputs": [
    {
     "name": "stdout",
     "output_type": "stream",
     "text": [
      "Points:\n",
      "[{'time': '2022-01-24T21:26:45.648000Z', 'bandwidth': 125000.0, 'battery_voltage': None, 'dev_eui': '0080000004017e61', 'f_count': 0.0, 'frame_size': None, 'frequency': 905.1, 'gateway_eui': '647fda011d9e0000', 'gw_alt': None, 'gw_latitude': None, 'gw_longitude': None, 'humidity': None, 'message_type': 'Reset', 'packet_counter': 0.0, 'rcv_time': 1643059605.6475573, 'rssi': -110.0, 'snr': 7.8, 'spreading_factor': 9.0, 'temperature': None}, {'time': '2022-01-24T21:27:00.058000Z', 'bandwidth': 125000.0, 'battery_voltage': None, 'dev_eui': '0080000004017e61', 'f_count': 1.0, 'frame_size': None, 'frequency': 912.9, 'gateway_eui': '647fda011d9e0000', 'gw_alt': None, 'gw_latitude': None, 'gw_longitude': None, 'humidity': None, 'message_type': 'Voltage Sensor', 'packet_counter': 3.0, 'rcv_time': 1643059620.0584414, 'rssi': -109.0, 'snr': 5.5, 'spreading_factor': 10.0, 'temperature': None}, {'time': '2022-01-25T01:57:31.174339Z', 'bandwidth': 125000.0, 'battery_voltage': 3.2, 'dev_eui': '0080000004017e61', 'f_count': 0.0, 'frame_size': None, 'frequency': 902.3, 'gateway_eui': '647fda011d9e0000', 'gw_alt': None, 'gw_latitude': None, 'gw_longitude': None, 'humidity': None, 'message_type': None, 'packet_counter': None, 'rcv_time': 1643075850.923538, 'rssi': -89.0, 'snr': 12.8, 'spreading_factor': 9.0, 'temperature': None}, {'time': '2022-01-25T01:57:43.183699Z', 'bandwidth': 125000.0, 'battery_voltage': 3.2, 'dev_eui': '0080000004017e61', 'f_count': 0.0, 'frame_size': None, 'frequency': 903.5, 'gateway_eui': '647fda011d9e0000', 'gw_alt': None, 'gw_latitude': None, 'gw_longitude': None, 'humidity': None, 'message_type': None, 'packet_counter': None, 'rcv_time': 1643075863.0027418, 'rssi': -89.0, 'snr': 12.2, 'spreading_factor': 9.0, 'temperature': None}]\n"
     ]
    }
   ],
   "source": [
    "from dotenv import load_dotenv\n",
    "import os\n",
    "load_dotenv(\"local.env\")\n",
    "\n",
    "# https://thenewstack.io/getting-started-with-python-and-influxdb/\n",
    "from influxdb import InfluxDBClient\n",
    "\n",
    "user = os.getenv(\"INFLUX_USER\")\n",
    "password = os.getenv(\"INFLUX_PASS\")\n",
    "\n",
    "dbname = os.getenv(\"INFLUX_DBNAME\")\n",
    "\n",
    "client = InfluxDBClient(\n",
    "    host=\"iotdash.austinvoicedata.com\",\n",
    "    path=\"influxdb:8086\",\n",
    "    port=443,\n",
    "    ssl=True,\n",
    "    verify_ssl=True,\n",
    "    username=user,\n",
    "    password=password,\n",
    "    database=dbname\n",
    ")\n",
    "\n",
    "# query = 'SELECT * FROM radiobridge WHERE time > now() - 1h'\n",
    "# query = 'select * from radiobridge'\n",
    "\n",
    "query_where = 'select * from radiobridge where dev_eui=$deveui'\n",
    "bind_params = {'deveui': '0080000004017e61'}\n",
    "query = 'SELECT * FROM radiobridge LIMIT 4'\n",
    "\n",
    "result = client.query(query)\n",
    "# print(\"Result:\\n{0}\".format(result))\n",
    "points = list(result.get_points())\n",
    "print(\"Points:\\n{0}\".format(points))\n",
    "# data = []\n",
    "# meas=\"radiobridge2\""
   ]
  },
  {
   "cell_type": "code",
   "execution_count": null,
   "metadata": {},
   "outputs": [],
   "source": [
    "\n",
    "\n",
    "# for p in points:\n",
    "#     data.append(\"{meas},dev_eui={dev_eui},gateway_eui={gateway_eui} \\\n",
    "#         bandwidth={bandwidth},battery_voltage={battery_voltage},f_count={f_count}i {timestamp}\"\n",
    "#         .format(meas=meas,\n",
    "#             dev_eui=p['dev_eui'],\n",
    "#             gateway_eui=p['gateway_eui'],\n",
    "#             bandwidth=int(p['bandwidth']),\n",
    "#             battery_voltage=p['battery_voltage'],\n",
    "#             f_count=int(p['f_count']),\n",
    "#             timestamp=p['time'])\n",
    "#     )\n",
    "# print(F'Lines:\\n{data}')"
   ]
  },
  {
   "cell_type": "code",
   "execution_count": 24,
   "metadata": {},
   "outputs": [
    {
     "name": "stdout",
     "output_type": "stream",
     "text": [
      "{'time': '2022-01-24T21:26:45.648000Z', 'bandwidth': 125000.0, 'battery_voltage': None, 'dev_eui': '0080000004017e61', 'f_count': 0.0, 'frame_size': None, 'frequency': 905.1, 'gateway_eui': '647fda011d9e0000', 'gw_alt': None, 'gw_latitude': None, 'gw_longitude': None, 'humidity': None, 'message_type': 'Reset', 'packet_counter': 0.0, 'rcv_time': 1643059605.6475573, 'rssi': -110.0, 'snr': 7.8, 'spreading_factor': 9.0, 'temperature': None}\n",
      "{'time': '2022-01-24T21:27:00.058000Z', 'bandwidth': 125000.0, 'battery_voltage': None, 'dev_eui': '0080000004017e61', 'f_count': 1.0, 'frame_size': None, 'frequency': 912.9, 'gateway_eui': '647fda011d9e0000', 'gw_alt': None, 'gw_latitude': None, 'gw_longitude': None, 'humidity': None, 'message_type': 'Voltage Sensor', 'packet_counter': 3.0, 'rcv_time': 1643059620.0584414, 'rssi': -109.0, 'snr': 5.5, 'spreading_factor': 10.0, 'temperature': None}\n",
      "{'time': '2022-01-25T01:57:31.174339Z', 'bandwidth': 125000.0, 'battery_voltage': 3.2, 'dev_eui': '0080000004017e61', 'f_count': 0.0, 'frame_size': None, 'frequency': 902.3, 'gateway_eui': '647fda011d9e0000', 'gw_alt': None, 'gw_latitude': None, 'gw_longitude': None, 'humidity': None, 'message_type': None, 'packet_counter': None, 'rcv_time': 1643075850.923538, 'rssi': -89.0, 'snr': 12.8, 'spreading_factor': 9.0, 'temperature': None}\n",
      "{'time': '2022-01-25T01:57:43.183699Z', 'bandwidth': 125000.0, 'battery_voltage': 3.2, 'dev_eui': '0080000004017e61', 'f_count': 0.0, 'frame_size': None, 'frequency': 903.5, 'gateway_eui': '647fda011d9e0000', 'gw_alt': None, 'gw_latitude': None, 'gw_longitude': None, 'humidity': None, 'message_type': None, 'packet_counter': None, 'rcv_time': 1643075863.0027418, 'rssi': -89.0, 'snr': 12.2, 'spreading_factor': 9.0, 'temperature': None}\n",
      "Lines:\n",
      "['radiobridge2,dev_eui=0080000004017e61,gateway_eui=647fda011d9e0000 bandwidth=125000i,frequency=905.1,spreading_factor=9i,f_count=0i,rssi=-110,snr=7.8,message_type=Reset 2022-01-24T21:26:45.648000Z', 'radiobridge2,dev_eui=0080000004017e61,gateway_eui=647fda011d9e0000 bandwidth=125000i,frequency=912.9,spreading_factor=10i,f_count=1i,rssi=-109,snr=5.5,message_type=Voltage Sensor 2022-01-24T21:27:00.058000Z', 'radiobridge2,dev_eui=0080000004017e61,gateway_eui=647fda011d9e0000 bandwidth=125000i,frequency=902.3,spreading_factor=9i,f_count=0i,rssi=-89,snr=12.8,battery_voltage=3.2 2022-01-25T01:57:31.174339Z', 'radiobridge2,dev_eui=0080000004017e61,gateway_eui=647fda011d9e0000 bandwidth=125000i,frequency=903.5,spreading_factor=9i,f_count=0i,rssi=-89,snr=12.2,battery_voltage=3.2 2022-01-25T01:57:43.183699Z']\n"
     ]
    }
   ],
   "source": [
    "#print(\"Points:\\n{0}\".format(points))\n",
    "data = []\n",
    "meas=\"radiobridge2\"\n",
    "\n",
    "for p in points:\n",
    "    print(p)\n",
    "    linehead = F'{meas},dev_eui={p[\"dev_eui\"]},gateway_eui={p[\"gateway_eui\"]}'\n",
    "    metrics = F'bandwidth={int(p[\"bandwidth\"])}i,' + F'frequency={round(p[\"frequency\"],1)},' + F'spreading_factor={int(p[\"spreading_factor\"])}i,' \\\n",
    "                + F'f_count={int(p[\"f_count\"])}i,' + F'rssi={int(p[\"rssi\"])},' + F'snr={round(p[\"snr\"],1)}'\n",
    "    if 'frame_size' in p and p['frame_size'] is not None:\n",
    "        metrics = metrics + F',frame_size={int(p[\"frame_size\"])}i'\n",
    "    if 'battery_voltage' in p and p['battery_voltage'] is not None:\n",
    "        metrics = metrics + F',battery_voltage={p[\"battery_voltage\"]}'\n",
    "    if 'gw_alt' in p and p['gw_alt'] is not None:\n",
    "        metrics = metrics + F',gw_alt={int(p[\"gw_alt\"])}i'\n",
    "    if 'gw_latitude' in p and p['gw_latitude'] is not None:\n",
    "        metrics = metrics + F',gw_latitude={round(p[\"gw_latitude\"],5)}'\n",
    "    if 'gw_longitude' in p and p['gw_longitude'] is not None:\n",
    "        metrics = metrics + F',gw_longitude={round(p[\"gw_longitude\"],5)}'\n",
    "    if 'temperature' in p and p['temperature'] is not None:\n",
    "        metrics = metrics + F',temperature={round(p[\"temperature\"],1)}'\n",
    "    if 'humidity' in p and p['humidity'] is not None:\n",
    "        metrics = metrics + F',humidity={round(p[\"humidity\"],1)}'\n",
    "    if 'message_type' in p and p['message_type'] is not None:\n",
    "        metrics = metrics + F',message_type={p[\"message_type\"]}'\n",
    "\n",
    "    data.append(linehead + \" \" + metrics + \" \" + p['time'])\n",
    "\n",
    "print(F'Lines:\\n{data}')"
   ]
  },
  {
   "cell_type": "code",
   "execution_count": null,
   "metadata": {},
   "outputs": [],
   "source": [
    "print(\"1\"+\"2\")"
   ]
  }
 ],
 "metadata": {
  "kernelspec": {
   "display_name": "Python 3 (ipykernel)",
   "language": "python",
   "name": "python3"
  },
  "language_info": {
   "codemirror_mode": {
    "name": "ipython",
    "version": 3
   },
   "file_extension": ".py",
   "mimetype": "text/x-python",
   "name": "python",
   "nbconvert_exporter": "python",
   "pygments_lexer": "ipython3",
   "version": "3.10.6"
  },
  "orig_nbformat": 4,
  "vscode": {
   "interpreter": {
    "hash": "7fa56e8c3f8012f07a6b4a64c492554f746693920ec4fd5d2a19c2b4d1e91016"
   }
  }
 },
 "nbformat": 4,
 "nbformat_minor": 2
}
