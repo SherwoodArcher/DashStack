{
 "cells": [
  {
   "cell_type": "code",
   "execution_count": 2,
   "metadata": {},
   "outputs": [],
   "source": [
    "from dotenv import load_dotenv\n",
    "import os\n",
    "#from influxdb_client import InfluxDBClient, Point, WriteOptions\n",
    "from influxdb import InfluxDBClient as InfluxDBClientV1\n",
    "from influxdb_client import InfluxDBClient as InfluxDBClientV2\n",
    "from influxdb_client.client.write_api import SYNCHRONOUS, WriteOptions\n",
    "from datetime import datetime\n",
    "#from influxdb_client import InfluxDBClient\n",
    "# from influxdb_client.client.write_api import SYNCHRONOUS\n",
    "\n",
    "\n",
    "\n",
    "# https://thenewstack.io/getting-started-with-python-and-influxdb/\n",
    "# from influxdb import InfluxDBClient\n",
    "\n",
    "# influx v1.8 - old/current location\n",
    "\n",
    "load_dotenv(\"local.env\")\n",
    "\n",
    "user = os.getenv(\"INFLUX_USER\")\n",
    "password = os.getenv(\"INFLUX_PASS\")\n",
    "dbname = os.getenv(\"INFLUX_DBNAME\")\n",
    "host1 = \"iotdash.austinvoicedata.com\"\n",
    "\n",
    "client1 = InfluxDBClientV1(\n",
    "    host=host1,\n",
    "    path=\"influxdb:8086\",\n",
    "    port=443,\n",
    "    ssl=True,\n",
    "    verify_ssl=True,\n",
    "    username=user,\n",
    "    password=password,\n",
    "    database=dbname\n",
    ")\n",
    "meas = \"xirka\""
   ]
  },
  {
   "cell_type": "code",
   "execution_count": 10,
   "metadata": {},
   "outputs": [],
   "source": [
    "\"\"\"\n",
    "Configure credentials for Influx Cloud\n",
    "\"\"\"\n",
    "influx_cloud_url = 'eastus-1.azure.cloud2.influxdata.com'\n",
    "influx_cloud_token = os.getenv(\"INFLUXCLOUD_TOKEN\")\n",
    "bucket = 'bucket2'\n",
    "org = 'Everynet-IoTDashboard'\n",
    "\n",
    "# client2 = influxdb_client.InfluxDBClient(url=influx_cloud_url, token=influx_cloud_token)\n",
    "\n",
    "client2 = InfluxDBClientV2(\n",
    "    url=F'https://{influx_cloud_url}',\n",
    "    token=influx_cloud_token,\n",
    "    org=org,\n",
    "    # debug=True\n",
    ")\n",
    "\n",
    "# write_api = client2.write_api(write_options=SYNCHRONOUS)\n",
    "write_api = client2.write_api(write_options=WriteOptions(batch_size=500,\n",
    "                                                      flush_interval=10_000,\n",
    "                                                      jitter_interval=2_000,\n",
    "                                                      retry_interval=5_000,\n",
    "                                                      max_retries=5,\n",
    "                                                      max_retry_delay=30_000,\n",
    "                                                      exponential_base=2))\n",
    "#p = Point(\"my_measurement\").tag(\"location\", \"Prague\").field(\"temperature\", 25.3)\n",
    "# write_api.write(bucket=bucket, record=p)\n",
    "# delete bucket contents for 2022 from CLI\n",
    "# influx delete -b radiobridge0 --start 2022-01-01T11:00:00Z --stop 2023-01-01T00:00:00Z\n",
    "# query the bucket\n",
    "# influx query 'from(bucket:\"radiobridge0\") |> range(start:-1mo)'"
   ]
  },
  {
   "cell_type": "code",
   "execution_count": 11,
   "metadata": {},
   "outputs": [
    {
     "name": "stdout",
     "output_type": "stream",
     "text": [
      "Got 37705 Data Points\n"
     ]
    }
   ],
   "source": [
    "\n",
    "\n",
    "query_where = 'select * from radiobridge where dev_eui=$deveui'\n",
    "bind_params = {'deveui': '0080000004017e61'}\n",
    "query = F'SELECT * FROM {meas}'\n",
    "\n",
    "result = client1.query(query,epoch=\"ns\")\n",
    "# result = client1.query(query_where, bind_params=bind_params)\n",
    "\n",
    "# print(\"Result:\\n{0}\".format(result))\n",
    "points = list(result.get_points())\n",
    "print(F'Got {len(points)} Data Points')\n",
    "# print(\"Points:\\n{0}\".format(points))"
   ]
  },
  {
   "cell_type": "code",
   "execution_count": 12,
   "metadata": {},
   "outputs": [],
   "source": [
    "# print(\"Points:\\n{0}\".format(points))\n",
    "\n",
    "data = []\n",
    "\n",
    "i = 0\n",
    "for p in points:\n",
    "    i += 1\n",
    "    #print(p)\n",
    "\n",
    "    linehead = F'{meas},dev_eui={p[\"dev_eui\"]},gateway_eui={p[\"gateway_eui\"]}'\n",
    "    metrics = 'xfer=True'\n",
    "    \n",
    "    if 'rssi' in p and p['rssi'] is not None:\n",
    "        metrics = metrics + F',rssi={int(p[\"rssi\"])}i'\n",
    "    if 'snr' in p and p['snr'] is not None:\n",
    "        metrics = metrics + F',snr={round(p[\"snr\"],1)}'\n",
    "    if 'bandwidth' in p and p['bandwidth'] is not None:\n",
    "        metrics = metrics + F',bandwidth={int(p[\"bandwidth\"])}i'\n",
    "    if 'frequency' in p and p['frequency'] is not None:\n",
    "        metrics = metrics + F',frequency={round(p[\"frequency\"],1)}'\n",
    "    if 'spreading_factor' in p and p['spreading_factor'] is not None:\n",
    "        metrics = metrics + F',spreading_factor={int(p[\"spreading_factor\"])}i'\n",
    "    if 'rcv_time' in p and p['rcv_time'] is not None:\n",
    "        metrics = metrics + F',rcv_time={p[\"rcv_time\"]}'   \n",
    "    if 'f_count' in p and p['f_count'] is not None:\n",
    "        metrics = metrics + F',f_count={int(p[\"f_count\"])}i'\n",
    "        \n",
    "    if 'frame_size' in p and p['frame_size'] is not None:\n",
    "        metrics = metrics + F',frame_size={int(p[\"frame_size\"])}i'\n",
    "    if 'battery_voltage' in p and p['battery_voltage'] is not None:\n",
    "        metrics = metrics + F',battery_voltage={p[\"battery_voltage\"]}'\n",
    "    if 'gw_alt' in p and p['gw_alt'] is not None:\n",
    "        metrics = metrics + F',gw_alt={int(p[\"gw_alt\"])}i'\n",
    "    if 'gw_latitude' in p and p['gw_latitude'] is not None:\n",
    "        metrics = metrics + F',gw_latitude={round(p[\"gw_latitude\"],5)}'\n",
    "    if 'gw_longitude' in p and p['gw_longitude'] is not None:\n",
    "        metrics = metrics + F',gw_longitude={round(p[\"gw_longitude\"],5)}'\n",
    "    if 'temperature' in p and p['temperature'] is not None:\n",
    "        metrics = metrics + F',temperature={round(p[\"temperature\"],1)}'\n",
    "    if 'humidity' in p and p['humidity'] is not None:\n",
    "        metrics = metrics + F',humidity={round(p[\"humidity\"],1)}'\n",
    "    if 'message_type' in p and p['message_type'] is not None:\n",
    "        metrics = metrics + F',message_type=\\\"{p[\"message_type\"]}\\\"'\n",
    "\n",
    "    before=datetime.now()\n",
    "    record = linehead + \" \" + metrics + \" \" + str(p['time'])\n",
    "    data.append(record)\n",
    "    #write_api.write(bucket=bucket, record=record)\n",
    "    #duration=datetime.now()-before\n",
    "    #print(F'R{i}:t{round(duration.total_seconds(),3)}s:{record}')\n",
    "write_api.write(bucket=bucket, record=data)\n",
    "# print(data)"
   ]
  },
  {
   "cell_type": "code",
   "execution_count": null,
   "metadata": {},
   "outputs": [],
   "source": []
  }
 ],
 "metadata": {
  "kernelspec": {
   "display_name": "Python 3 (ipykernel)",
   "language": "python",
   "name": "python3"
  },
  "language_info": {
   "codemirror_mode": {
    "name": "ipython",
    "version": 3
   },
   "file_extension": ".py",
   "mimetype": "text/x-python",
   "name": "python",
   "nbconvert_exporter": "python",
   "pygments_lexer": "ipython3",
   "version": "3.10.6"
  },
  "orig_nbformat": 4,
  "vscode": {
   "interpreter": {
    "hash": "7fa56e8c3f8012f07a6b4a64c492554f746693920ec4fd5d2a19c2b4d1e91016"
   }
  }
 },
 "nbformat": 4,
 "nbformat_minor": 2
}
